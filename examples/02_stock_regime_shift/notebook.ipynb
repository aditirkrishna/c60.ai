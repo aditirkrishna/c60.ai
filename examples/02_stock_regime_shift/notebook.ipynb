{
 "cells": [
  {
   "cell_type": "markdown",
   "metadata": {},
   "source": [
    "# Stock Market Regime Change Detection Walkthrough\n",
    "This notebook demonstrates C60.ai for regime shift detection in financial time series."
   ]
  },
  {
   "cell_type": "code",
   "metadata": {},
   "source": [
    "from c60.engine.agent import AutoDAGAgent\n",
    "agent = AutoDAGAgent()\n",
    "agent.load_yaml('examples/02_stock_regime_shift/pipeline_dag.yaml')\n",
    "agent.run()"
   ]
  },
  {
   "cell_type": "markdown",
   "metadata": {},
   "source": [
    "## Backtest Results\n",
    "Visualize rolling regime predictions and Sharpe ratio."
   ]
  },
  {
   "cell_type": "code",
   "metadata": {},
   "source": [
    "import pandas as pd\n",
    "pd.read_csv('examples/02_stock_regime_shift/results.csv').head()"
   ]
  }
 ],
 "metadata": {
  "kernelspec": {
   "display_name": "Python 3",
   "language": "python",
   "name": "python3"
  },
  "language_info": {
   "name": "python",
   "version": "3.8"
  }
 },
 "nbformat": 4,
 "nbformat_minor": 2
}
