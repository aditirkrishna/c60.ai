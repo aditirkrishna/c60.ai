{
 "cells": [
  {
   "cell_type": "markdown",
   "metadata": {},
   "source": [
    "# Legal Document Classification Walkthrough\n",
    "This notebook demonstrates C60.ai for multi-class legal document classification."
   ]
  },
  {
   "cell_type": "code",
   "metadata": {},
   "source": [
    "from c60.engine.agent import AutoDAGAgent\n",
    "agent = AutoDAGAgent()\n",
    "agent.load_yaml('examples/03_legal_document_classification/pipeline_dag.yaml')\n",
    "agent.run()"
   ]
  },
  {
   "cell_type": "markdown",
   "metadata": {},
   "source": [
    "## Visualize Class Activation Maps\n",
    "Use the notebook to generate and review class activation maps."
   ]
  },
  {
   "cell_type": "code",
   "metadata": {},
   "source": [
    "import torch\n",
    "torch.load('examples/03_legal_document_classification/model.pt')  # Example output"
   ]
  }
 ],
 "metadata": {
  "kernelspec": {
   "display_name": "Python 3",
   "language": "python",
   "name": "python3"
  },
  "language_info": {
   "name": "python",
   "version": "3.8"
  }
 },
 "nbformat": 4,
 "nbformat_minor": 2
}
