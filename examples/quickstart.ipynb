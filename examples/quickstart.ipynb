{
 "cells": [
  {
   "cell_type": "markdown",
   "metadata": {},
   "source": [
    "# C60.ai Quickstart\n",
    "\n",
    "This notebook provides a quick introduction to using the C60.ai AutoML framework."
   ]
  },
  {
   "cell_type": "markdown",
   "metadata": {},
   "source": [
    "## Installation\n",
    "\n",
    "First, let's install the required packages. If you haven't already, install them using:\n",
    "\n",
    "```bash\n",
    "pip install -r requirements.txt\n",
    "```"
   ]
  },
  {
   "cell_type": "code",
   "execution_count": null,
   "metadata": {},
   "outputs": [],
   "source": [
    "# Import required libraries\n",
    "import numpy as np\n",
    "import pandas as pd\n",
    "from sklearn.datasets import load_iris, load_diabetes\n",
    "from sklearn.model_selection import train_test_split\n",
    "\n",
    "# Import C60\n",
    "from c60 import AutoML, Pipeline\n",
    "from c60.core.generator import PipelineGenerator\n",
    "from c60.core.evaluator import Evaluator"
   ]
  },
  {
   "cell_type": "markdown",
   "metadata": {},
   "source": [
    "## Load and Prepare Data\n",
    "\n",
    "Let's load a sample dataset and split it into training and testing sets."
   ]
  },
  {
   "cell_type": "code",
   "execution_count": null,
   "metadata": {},
   "outputs": [],
   "source": [
    "# Load dataset\n",
    "# For classification\n",
    "X, y = load_iris(return_X_y=True, as_frame=True)\n",
    "\n",
    "# For regression (uncomment to use)\n",
    "# X, y = load_diabetes(return_X_y=True, as_frame=True)\n",
    "\n",
    "# Split data\n",
    "X_train, X_test, y_train, y_test = train_test_split(\n",
    "    X, y, test_size=0.2, random_state=42, stratify=y if hasattr(y, 'nunique') else None\n",
    ")\n",
    "\n",
    "print(f\"Training data shape: {X_train.shape}\")\n",
    "print(f\"Testing data shape: {X_test.shape}\")"
   ]
  },
  {
   "cell_type": "markdown",
   "metadata": {},
   "source": [
    "## Basic Usage\n",
    "\n",
    "Let's create a simple AutoML instance and run it on our data."
   ]
  },
  {
   "cell_type": "code",
   "execution_count": null,
   "metadata": {},
   "outputs": [],
   "source": [
    "# Initialize AutoML\n",
    "automl = AutoML(\n",
    "    task='classification',  # or 'regression'\n",
    "    time_budget=300,  # 5 minutes\n",
    "    metric='accuracy',  # or any other metric\n",
    "    n_jobs=-1,  # use all available cores\n",
    "    random_state=42\n",
    ")\n",
    "\n",
    "# Fit the model\n",
    "automl.fit(X_train, y_train)\n",
    "\n",
    "# Make predictions\n",
    "y_pred = automl.predict(X_test)\n",
    "\n",
    "# Evaluate\n",
    "from sklearn.metrics import accuracy_score\n",
    "print(f\"Accuracy: {accuracy_score(y_test, y_pred):.4f}\")"
   ]
  },
  {
   "cell_type": "markdown",
   "metadata": {},
   "source": [
    "## Advanced Usage\n",
    "\n",
    "Let's create a more advanced pipeline with custom components."
   ]
  },
  {
   "cell_type": "code",
   "execution_count": null,
   "metadata": {},
   "outputs": [],
   "source": [
    "from sklearn.preprocessing import StandardScaler, OneHotEncoder\n",
    "from sklearn.impute import SimpleImputer\n",
    "from sklearn.ensemble import RandomForestClassifier\n",
    "\n",
    "# Create a custom pipeline\n",
    "pipeline = Pipeline()\n",
    "\n",
    "# Add preprocessing steps\n",
    "pipeline.add_step(\n",
    "    name=\"preprocessing\",\n",
    "    estimator=SklearnPipeline([\n",
    "        (\"imputer\", SimpleImputer(strategy=\"median\")),\n",
    "        (\"scaler\", StandardScaler())\n",
    "    ])\n",
    ")\n",
    "\n",
    "# Add a model\n",
    "pipeline.add_step(\n",
    "    name=\"model\",\n",
    "    estimator=RandomForestClassifier(n_estimators=100, random_state=42)\n",
    ")\n",
    "\n",
    "# Fit the pipeline\n",
    "pipeline.fit(X_train, y_train)\n",
    "\n",
    "# Evaluate\n",
    "score = pipeline.score(X_test, y_test)\n",
    "print(f\"Pipeline accuracy: {score:.4f}\")"
   ]
  },
  {
   "cell_type": "markdown",
   "metadata": {},
   "source": [
    "## Hyperparameter Tuning\n",
    "\n",
    "Let's use the built-in optimizer to tune hyperparameters."
   ]
  },
  {
   "cell_type": "code",
   "execution_count": null,
   "metadata": {},
   "outputs": [],
   "source": [
    "from c60.core.optimizer import Optimizer\n",
    "\n",
    "# Initialize the optimizer\n",
    "optimizer = Optimizer(\n",
    "    task='classification',\n",
    "    metric='accuracy',\n",
    "    n_trials=50,\n",
    "    random_state=42\n",
    ")\n",
    "\n",
    "# Define parameter search space\n",
    "param_distributions = {\n",
    "    'n_estimators': [100, 200, 300],\n",
    "    'max_depth': [None, 10, 20, 30],\n",
    "    'min_samples_split': [2, 5, 10],\n",
    "    'min_samples_leaf': [1, 2, 4]\n",
    "}\n",
    "\n",
    "# Create a base model\n",
    "from sklearn.ensemble import RandomForestClassifier\n",
    "model = RandomForestClassifier(random_state=42)\n",
    "\n",
    "# Run optimization\n",
    "result = optimizer.optimize(\n",
    "    estimator=model,\n",
    "    X=X_train,\n",
    "    y=y_train,\n",
    "    param_distributions=param_distributions\n",
    ")\n",
    "\n",
    "print(\"Best parameters:\", result['best_params'])\n",
    "print(\"Best score:\", result['best_value'])"
   ]
  },
  {
   "cell_type": "markdown",
   "metadata": {},
   "source": [
    "## Pipeline Generation\n",
    "\n",
    "Let's use the PipelineGenerator to automatically generate and evaluate multiple pipelines."
   ]
  },
  {
   "cell_type": "code",
   "execution_count": null,
   "metadata": {},
   "outputs": [],
   "source": [
    "# Initialize the pipeline generator\n",
    "generator = PipelineGenerator(\n",
    "    task='classification',\n",
    "    preprocessing=True,\n",
    "    feature_selection=True,\n",
    "    random_state=42\n",
    ")\n",
    "\n",
    "# Generate initial population of pipelines\n",
    "pipelines = generator.generate_initial_population(\n",
    "    n_pipelines=5,\n",
    "    numerical_features=X_train.columns.tolist()\n",
    ")\n",
    "\n",
    "# Initialize evaluator\n",
    "evaluator = Evaluator(task='classification')\n",
    "\n",
    "# Evaluate each pipeline\n",
    "for i, pipeline in enumerate(pipelines):\n",
    "    score = evaluator.evaluate(pipeline, X_train, y_train)\n",
    "    print(f\"Pipeline {i+1} - Accuracy: {score['accuracy']:.4f}\")"
   ]
  },
  {
   "cell_type": "markdown",
   "metadata": {},
   "source": [
    "## Conclusion\n",
    "\n",
    "This quickstart demonstrated the basic and advanced usage of the C60.ai AutoML framework. You can now:\n",
    "\n",
    "1. Use the high-level `AutoML` class for automated model selection and tuning\n",
    "2. Create custom pipelines with the `Pipeline` class\n",
    "3. Tune hyperparameters with the `Optimizer` class\n",
    "4. Generate and evaluate multiple pipelines with the `PipelineGenerator`\n",
    "\n",
    "For more advanced usage, refer to the documentation and examples in the `examples` directory."
   ]
  }
 ],
 "metadata": {
  "kernelspec": {
   "display_name": "Python 3",
   "language": "python",
   "name": "python3"
  },
  "language_info": {
   "codemirror_mode": {
    "name": "ipython",
    "version": 3
   },
   "file_extension": ".py",
   "mimetype": "text/x-python",
   "name": "python",
   "nbconvert_exporter": "python",
   "pygments_lexer": "ipython3",
   "version": "3.8.0"
  }
 },
 "nbformat": 4,
 "nbformat_minor": 4
}
