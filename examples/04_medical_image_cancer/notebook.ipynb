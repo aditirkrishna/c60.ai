{
 "cells": [
  {
   "cell_type": "markdown",
   "metadata": {},
   "source": [
    "# Medical Image Cancer Classifier Walkthrough\n",
    "This notebook demonstrates C60.ai for cancer classification from histopathology images."
   ]
  },
  {
   "cell_type": "code",
   "metadata": {},
   "source": [
    "from c60.engine.agent import AutoDAGAgent\n",
    "agent = AutoDAGAgent()\n",
    "agent.load_yaml('examples/04_medical_image_cancer/pipeline_dag.yaml')\n",
    "agent.run()"
   ]
  },
  {
   "cell_type": "markdown",
   "metadata": {},
   "source": [
    "## Visual Diagnostic Overlay\n",
    "Review Grad-CAM overlays and bias/fairness report in the notebook."
   ]
  },
  {
   "cell_type": "code",
   "metadata": {},
   "source": [
    "import matplotlib.pyplot as plt\n",
    "plt.imshow(plt.imread('examples/04_medical_image_cancer/sample_gradcam.png'))"
   ]
  }
 ],
 "metadata": {
  "kernelspec": {
   "display_name": "Python 3",
   "language": "python",
   "name": "python3"
  },
  "language_info": {
   "name": "python",
   "version": "3.8"
  }
 },
 "nbformat": 4,
 "nbformat_minor": 2
}
