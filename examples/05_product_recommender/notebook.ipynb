{
 "cells": [
  {
   "cell_type": "markdown",
   "metadata": {},
   "source": [
    "# Real-Time Product Recommender Walkthrough\n",
    "This notebook demonstrates C60.ai for real-time multi-label product recommendation."
   ]
  },
  {
   "cell_type": "code",
   "metadata": {},
   "source": [
    "from c60.engine.agent import AutoDAGAgent\n",
    "agent = AutoDAGAgent()\n",
    "agent.load_yaml('examples/05_product_recommender/pipeline_dag.yaml')\n",
    "agent.run()"
   ]
  },
  {
   "cell_type": "markdown",
   "metadata": {},
   "source": [
    "## Evaluate Recommendation Performance\n",
    "Review CTR and lift metrics in the evaluation notebook."
   ]
  },
  {
   "cell_type": "code",
   "metadata": {},
   "source": [
    "import pandas as pd\n",
    "pd.read_csv('examples/05_product_recommender/eval_metrics.csv').head()"
   ]
  }
 ],
 "metadata": {
  "kernelspec": {
   "display_name": "Python 3",
   "language": "python",
   "name": "python3"
  },
  "language_info": {
   "name": "python",
   "version": "3.8"
  }
 },
 "nbformat": 4,
 "nbformat_minor": 2
}
