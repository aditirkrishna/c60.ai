{
 "cells": [
  {
   "cell_type": "markdown",
   "metadata": {},
   "source": [
    "# Credit Card Fraud Detection Walkthrough\n",
    "This notebook demonstrates how to use C60.ai to build, train, and audit a fraud detection pipeline."
   ]
  },
  {
   "cell_type": "code",
   "metadata": {},
   "source": [
    "from c60.engine.agent import AutoDAGAgent\n",
    "agent = AutoDAGAgent()\n",
    "agent.load_yaml('examples/01_fraud_detection_bank/pipeline_dag.yaml')\n",
    "agent.run()"
   ]
  },
  {
   "cell_type": "markdown",
   "metadata": {},
   "source": [
    "## Visualize Audit Logs\n",
    "Audit logs are generated per flagged transaction. Review them for explanations."
   ]
  },
  {
   "cell_type": "code",
   "metadata": {},
   "source": [
    "import pandas as pd\n",
    "pd.read_csv('examples/01_fraud_detection_bank/audit_logs.csv').head()"
   ]
  }
 ],
 "metadata": {
  "kernelspec": {
   "display_name": "Python 3",
   "language": "python",
   "name": "python3"
  },
  "language_info": {
   "name": "python",
   "version": "3.8"
  }
 },
 "nbformat": 4,
 "nbformat_minor": 2
}
