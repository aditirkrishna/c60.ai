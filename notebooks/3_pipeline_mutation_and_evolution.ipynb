{
 "cells": [
  {
   "cell_type": "markdown",
   "metadata": {},
   "source": [
    "# Stage 3: Pipeline Mutation & Evolutionary Search\n",
    "\n",
    "This notebook demonstrates how the C60.ai framework mutates pipeline graphs and performs evolutionary search."
   ]
  },
  {
   "cell_type": "code",
   "execution_count": 1,
   "metadata": {},
   "outputs": [
    {
     "ename": "ModuleNotFoundError",
     "evalue": "No module named 'matplotlib'",
     "output_type": "error",
     "traceback": [
      "\u001b[31m---------------------------------------------------------------------------\u001b[39m",
      "\u001b[31mModuleNotFoundError\u001b[39m                       Traceback (most recent call last)",
      "\u001b[36mCell\u001b[39m\u001b[36m \u001b[39m\u001b[32mIn[1]\u001b[39m\u001b[32m, line 2\u001b[39m\n\u001b[32m      1\u001b[39m \u001b[38;5;28;01mimport\u001b[39;00m\u001b[38;5;250m \u001b[39m\u001b[34;01mrandom\u001b[39;00m\n\u001b[32m----> \u001b[39m\u001b[32m2\u001b[39m \u001b[38;5;28;01mimport\u001b[39;00m\u001b[38;5;250m \u001b[39m\u001b[34;01mmatplotlib\u001b[39;00m\u001b[34;01m.\u001b[39;00m\u001b[34;01mpyplot\u001b[39;00m\u001b[38;5;250m \u001b[39m\u001b[38;5;28;01mas\u001b[39;00m\u001b[38;5;250m \u001b[39m\u001b[34;01mplt\u001b[39;00m\n\u001b[32m      3\u001b[39m \u001b[38;5;28;01mimport\u001b[39;00m\u001b[38;5;250m \u001b[39m\u001b[34;01mnetworkx\u001b[39;00m\u001b[38;5;250m \u001b[39m\u001b[38;5;28;01mas\u001b[39;00m\u001b[38;5;250m \u001b[39m\u001b[34;01mnx\u001b[39;00m\n\u001b[32m      4\u001b[39m \u001b[38;5;28;01mfrom\u001b[39;00m\u001b[38;5;250m \u001b[39m\u001b[34;01mc60\u001b[39;00m\u001b[34;01m.\u001b[39;00m\u001b[34;01mengine\u001b[39;00m\u001b[34;01m.\u001b[39;00m\u001b[34;01mgraph_schema\u001b[39;00m\u001b[38;5;250m \u001b[39m\u001b[38;5;28;01mimport\u001b[39;00m DAG, Node, Edge, NodeType\n",
      "\u001b[31mModuleNotFoundError\u001b[39m: No module named 'matplotlib'"
     ]
    }
   ],
   "source": [
    "import random\n",
    "import matplotlib.pyplot as plt\n",
    "import networkx as nx\n",
    "from c60.engine.graph_schema import DAG, Node, Edge, NodeType\n"
   ]
  },
  {
   "cell_type": "markdown",
   "metadata": {},
   "source": [
    "## Define a Simple Pipeline Graph\n",
    "\n",
    "We start with a simple pipeline: Imputer → Scaler → RandomForest."
   ]
  },
  {
   "cell_type": "code",
   "execution_count": 2,
   "metadata": {},
   "outputs": [
    {
     "ename": "NameError",
     "evalue": "name 'Node' is not defined",
     "output_type": "error",
     "traceback": [
      "\u001b[31m---------------------------------------------------------------------------\u001b[39m",
      "\u001b[31mNameError\u001b[39m                                 Traceback (most recent call last)",
      "\u001b[36mCell\u001b[39m\u001b[36m \u001b[39m\u001b[32mIn[2]\u001b[39m\u001b[32m, line 13\u001b[39m\n\u001b[32m     10\u001b[39m     dag.add_edge(Edge(source=\u001b[33m'\u001b[39m\u001b[33mscaler\u001b[39m\u001b[33m'\u001b[39m, target=\u001b[33m'\u001b[39m\u001b[33mrf\u001b[39m\u001b[33m'\u001b[39m))\n\u001b[32m     11\u001b[39m     \u001b[38;5;28;01mreturn\u001b[39;00m dag\n\u001b[32m---> \u001b[39m\u001b[32m13\u001b[39m base_dag = \u001b[43mbuild_simple_pipeline\u001b[49m\u001b[43m(\u001b[49m\u001b[43m)\u001b[49m\n",
      "\u001b[36mCell\u001b[39m\u001b[36m \u001b[39m\u001b[32mIn[2]\u001b[39m\u001b[32m, line 2\u001b[39m, in \u001b[36mbuild_simple_pipeline\u001b[39m\u001b[34m()\u001b[39m\n\u001b[32m      1\u001b[39m \u001b[38;5;28;01mdef\u001b[39;00m\u001b[38;5;250m \u001b[39m\u001b[34mbuild_simple_pipeline\u001b[39m():\n\u001b[32m----> \u001b[39m\u001b[32m2\u001b[39m     imputer = \u001b[43mNode\u001b[49m(node_id=\u001b[33m'\u001b[39m\u001b[33mimputer\u001b[39m\u001b[33m'\u001b[39m, node_type=NodeType.PREPROCESSOR, parameters={\u001b[33m'\u001b[39m\u001b[33mstrategy\u001b[39m\u001b[33m'\u001b[39m: \u001b[33m'\u001b[39m\u001b[33mmean\u001b[39m\u001b[33m'\u001b[39m})\n\u001b[32m      3\u001b[39m     scaler = Node(node_id=\u001b[33m'\u001b[39m\u001b[33mscaler\u001b[39m\u001b[33m'\u001b[39m, node_type=NodeType.PREPROCESSOR, parameters={\u001b[33m'\u001b[39m\u001b[33mtype\u001b[39m\u001b[33m'\u001b[39m: \u001b[33m'\u001b[39m\u001b[33mstandard\u001b[39m\u001b[33m'\u001b[39m})\n\u001b[32m      4\u001b[39m     rf = Node(node_id=\u001b[33m'\u001b[39m\u001b[33mrf\u001b[39m\u001b[33m'\u001b[39m, node_type=NodeType.ESTIMATOR, parameters={\u001b[33m'\u001b[39m\u001b[33mn_estimators\u001b[39m\u001b[33m'\u001b[39m: \u001b[32m100\u001b[39m})\n",
      "\u001b[31mNameError\u001b[39m: name 'Node' is not defined"
     ]
    }
   ],
   "source": [
    "def build_simple_pipeline():\n",
    "    imputer = Node(node_id='imputer', node_type=NodeType.PREPROCESSOR, parameters={'strategy': 'mean'})\n",
    "    scaler = Node(node_id='scaler', node_type=NodeType.PREPROCESSOR, parameters={'type': 'standard'})\n",
    "    rf = Node(node_id='rf', node_type=NodeType.ESTIMATOR, parameters={'n_estimators': 100})\n",
    "    dag = DAG()\n",
    "    dag.add_node(imputer)\n",
    "    dag.add_node(scaler)\n",
    "    dag.add_node(rf)\n",
    "    dag.add_edge(Edge(source='imputer', target='scaler'))\n",
    "    dag.add_edge(Edge(source='scaler', target='rf'))\n",
    "    return dag\n",
    "\n",
    "base_dag = build_simple_pipeline()"
   ]
  },
  {
   "cell_type": "markdown",
   "metadata": {},
   "source": [
    "## Visualize the Base Pipeline\n"
   ]
  },
  {
   "cell_type": "code",
   "execution_count": 4,
   "metadata": {},
   "outputs": [
    {
     "ename": "SyntaxError",
     "evalue": "unterminated f-string literal (detected at line 4) (2488724449.py, line 4)",
     "output_type": "error",
     "traceback": [
      "  \u001b[36mCell\u001b[39m\u001b[36m \u001b[39m\u001b[32mIn[4]\u001b[39m\u001b[32m, line 4\u001b[39m\n\u001b[31m    \u001b[39m\u001b[31mG.add_node(node_id, label=f'{node.node_type.value}\u001b[39m\n                              ^\n\u001b[31mSyntaxError\u001b[39m\u001b[31m:\u001b[39m unterminated f-string literal (detected at line 4)\n"
     ]
    }
   ],
   "source": [
    "def plot_dag(dag, title='Pipeline DAG'):\n",
    "    G = nx.DiGraph()\n",
    "    for node_id, node in dag.nodes.items():\n",
    "        G.add_node(node_id, label=f'{node.node_type.value}\n",
    "{node_id}')\n",
    "    for edge in dag.edges:\n",
    "        G.add_edge(edge.source, edge.target)\n",
    "    pos = nx.spring_layout(G, seed=42)\n",
    "    labels = nx.get_node_attributes(G, 'label')\n",
    "    plt.figure(figsize=(6, 3))\n",
    "    nx.draw(G, pos, with_labels=True, labels=labels, node_size=1800, node_color='lightgreen', font_size=10, font_weight='bold', arrowsize=20)\n",
    "    plt.title(title)\n",
    "    plt.show()\n",
    "\n",
    "plot_dag(base_dag, title='Base Pipeline DAG')"
   ]
  },
  {
   "cell_type": "markdown",
   "metadata": {},
   "source": [
    "## Simulate Mutation\n",
    "\n",
    "Let's define a simple mutation: change the scaler type or add a new feature selector node."
   ]
  },
  {
   "cell_type": "code",
   "execution_count": null,
   "metadata": {},
   "outputs": [],
   "source": [
    "def mutate_pipeline(dag):\n",
    "    # Copy the DAG\n",
    "    import copy\n",
    "    dag2 = copy.deepcopy(dag)\n",
    "    # Randomly mutate scaler type\n",
    "    scaler = dag2.get_node('scaler')\n",
    "    if scaler:\n",
    "        scaler.parameters['type'] = random.choice(['standard', 'minmax', 'robust'])\n",
    "    # With some probability, add a PCA node\n",
    "    if 'pca' not in dag2.nodes and random.random() < 0.5:\n",
    "        pca = Node(node_id='pca', node_type=NodeType.FEATURE_SELECTOR, parameters={'n_components': 2})\n",
    "        dag2.add_node(pca)\n",
    "        dag2.add_edge(Edge(source='scaler', target='pca'))\n",
    "        # Connect PCA to RF\n",
    "        dag2.edges = [e for e in dag2.edges if not (e.source == 'scaler' and e.target == 'rf')]\n",
    "        dag2.add_edge(Edge(source='pca', target='rf'))\n",
    "    return dag2\n",
    "\n",
    "mutated_dag = mutate_pipeline(base_dag)\n",
    "plot_dag(mutated_dag, title='Mutated Pipeline DAG')"
   ]
  },
  {
   "cell_type": "markdown",
   "metadata": {},
   "source": [
    "## Simulate Evolutionary Search\n",
    "\n",
    "We simulate a few generations of mutation and selection, using random scores for illustration."
   ]
  },
  {
   "cell_type": "code",
   "execution_count": null,
   "metadata": {},
   "outputs": [],
   "source": [
    "population = [build_simple_pipeline() for _ in range(5)]\n",
    "history = []\n",
    "for gen in range(3):\n",
    "    # Mutate population\n",
    "    population = [mutate_pipeline(dag) for dag in population]\n",
    "    # Assign random scores\n",
    "    scores = [random.uniform(0.7, 0.99) for _ in population]\n",
    "    best_idx = max(range(len(scores)), key=lambda i: scores[i])\n",
    "    best_dag = population[best_idx]\n",
    "    history.append((gen, best_dag, scores[best_idx]))\n",
    "    print(f'Generation {gen+1}: Best Score = {scores[best_idx]:.3f}')\n",
    "    plot_dag(best_dag, title=f'Best Pipeline Gen {gen+1}')"
   ]
  },
  {
   "cell_type": "markdown",
   "metadata": {},
   "source": [
    "## Summary\n",
    "\n",
    "- Demonstrated pipeline mutation and evolutionary search.\n",
    "- Visualized the evolution of pipeline graphs.\n",
    "- Next: We will score and optimize pipelines using cross-validation and hyperparameter search."
   ]
  }
 ],
 "metadata": {
  "kernelspec": {
   "display_name": "venv",
   "language": "python",
   "name": "python3"
  },
  "language_info": {
   "codemirror_mode": {
    "name": "ipython",
    "version": 3
   },
   "file_extension": ".py",
   "mimetype": "text/x-python",
   "name": "python",
   "nbconvert_exporter": "python",
   "pygments_lexer": "ipython3",
   "version": "3.13.5"
  }
 },
 "nbformat": 4,
 "nbformat_minor": 2
}
