{
 "cells": [
  {
   "cell_type": "markdown",
   "metadata": {},
   "source": [
    "# Stage 2: Pipeline Graph Construction & Visualization\n",
    "\n",
    "This notebook demonstrates how to construct and visualize machine learning pipeline graphs (DAGs) using the C60.ai framework."
   ]
  },
  {
   "cell_type": "code",
   "metadata": {},
   "source": [
    "import matplotlib.pyplot as plt\n",
    "import networkx as nx\n",
    "from c60.engine.graph_schema import DAG, Node, Edge, NodeType\n"
   ],
   "execution_count": null,
   "outputs": []
  },
  {
   "cell_type": "markdown",
   "metadata": {},
   "source": [
    "## Construct a Sample Pipeline Graph\n",
    "\n",
    "We will build a simple pipeline: Imputer → Scaler → PCA → RandomForestClassifier."
   ]
  },
  {
   "cell_type": "code",
   "metadata": {},
   "source": [
    "# Define nodes\n",
    "imputer = Node(node_id='imputer', node_type=NodeType.PREPROCESSOR, parameters={'strategy': 'mean'}, description='Impute missing values')\n",
    "scaler = Node(node_id='scaler', node_type=NodeType.PREPROCESSOR, parameters={'type': 'standard'}, description='Standard scaling')\n",
    "pca = Node(node_id='pca', node_type=NodeType.FEATURE_SELECTOR, parameters={'n_components': 2}, description='Principal Component Analysis')\n",
    "rf = Node(node_id='rf', node_type=NodeType.ESTIMATOR, parameters={'n_estimators': 100}, description='Random Forest Classifier')\n",
    "\n",
    "# Create DAG\n",
    "dag = DAG()\n",
    "dag.add_node(imputer)\n",
    "dag.add_node(scaler)\n",
    "dag.add_node(pca)\n",
    "dag.add_node(rf)\n",
    "\n",
    "# Add edges\n",
    "dag.add_edge(Edge(source='imputer', target='scaler'))\n",
    "dag.add_edge(Edge(source='scaler', target='pca'))\n",
    "dag.add_edge(Edge(source='pca', target='rf'))\n",
    "\n",
    "# Validate DAG\n",
    "dag.validate()\n",
    "print('Pipeline DAG is valid!')"
   ],
   "execution_count": null,
   "outputs": []
  },
  {
   "cell_type": "markdown",
   "metadata": {},
   "source": [
    "## Visualize the Pipeline Graph\n",
    "\n",
    "We use networkx and matplotlib for visualization."
   ]
  },
  {
   "cell_type": "code",
   "metadata": {},
   "source": [
    "G = nx.DiGraph()\n",
    "for node_id, node in dag.nodes.items():\n",
    "    G.add_node(node_id, label=f'{node.node_type.value}\n{node_id}')\n",
    "for edge in dag.edges:\n",
    "    G.add_edge(edge.source, edge.target)\n",
    "\n",
    "pos = nx.spring_layout(G, seed=42)\n",
    "labels = nx.get_node_attributes(G, 'label')\n",
    "plt.figure(figsize=(8, 4))\n",
    "nx.draw(G, pos, with_labels=True, labels=labels, node_size=2000, node_color='skyblue', font_size=10, font_weight='bold', arrowsize=20)\n",
    "plt.title('Pipeline DAG Structure')\n",
    "plt.show()"
   ],
   "execution_count": null,
   "outputs": []
  },
  {
   "cell_type": "markdown",
   "metadata": {},
   "source": [
    "## Export and Import Pipeline Graphs\n",
    "\n",
    "You can serialize the pipeline DAG to a dictionary (or JSON) and reload it later."
   ]
  },
  {
   "cell_type": "code",
   "metadata": {},
   "source": [
    "dag_dict = dag.to_dict()\n",
    "print('Serialized DAG:', dag_dict)\n",
    "\n",
    "# Reconstruct from dict\n",
    "dag2 = DAG.from_dict(dag_dict)\n",
    "assert dag2.topological_sort() == dag.topological_sort()\n",
    "print('DAG successfully reconstructed from dict!')"
   ],
   "execution_count": null,
   "outputs": []
  },
  {
   "cell_type": "markdown",
   "metadata": {},
   "source": [
    "## Summary\n",
    "\n",
    "- Built a modular pipeline DAG using the C60.ai framework.\n",
    "- Visualized the pipeline structure.\n",
    "- Demonstrated serialization and deserialization.\n",
    "\n",
    "Next: We will explore pipeline mutation and evolutionary search."
   ]
  }
 ],
 "metadata": {
  "kernelspec": {
   "display_name": "Python 3",
   "language": "python",
   "name": "python3"
  },
  "language_info": {
   "name": "python",
   "version": "3.8"
  }
 },
 "nbformat": 4,
 "nbformat_minor": 2
}
