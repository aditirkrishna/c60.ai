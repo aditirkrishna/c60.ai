{
 "cells": [
  {
   "cell_type": "markdown",
   "metadata": {},
   "source": [
    "# Stage 5: Hyperparameter Optimization & Feature Selection\n",
    "\n",
    "This notebook demonstrates hyperparameter optimization and feature selection using the C60.ai framework."
   ]
  },
  {
   "cell_type": "code",
   "metadata": {},
   "source": [
    "import pandas as pd\n",
    "import numpy as np\n",
    "from sklearn.ensemble import RandomForestClassifier\n",
    "from sklearn.pipeline import Pipeline\n",
    "from sklearn.impute import SimpleImputer\n",
    "from sklearn.preprocessing import StandardScaler\n",
    "from c60.core.optimizer import Optimizer\n"
   ],
   "execution_count": null,
   "outputs": []
  },
  {
   "cell_type": "markdown",
   "metadata": {},
   "source": [
    "## Load Example Data\n",
    "\n",
    "We use the Iris dataset for demonstration."
   ]
  },
  {
   "cell_type": "code",
   "metadata": {},
   "source": [
    "from sklearn.datasets import load_iris\n",
    "data = load_iris(as_frame=True)\n",
    "X = data.data\n",
    "y = data.target\n"
   ],
   "execution_count": null,
   "outputs": []
  },
  {
   "cell_type": "markdown",
   "metadata": {},
   "source": [
    "## Build a Pipeline\n"
   ]
  },
  {
   "cell_type": "code",
   "metadata": {},
   "source": [
    "pipeline = Pipeline([\n",
    "    ('imputer', SimpleImputer()),\n",
    "    ('scaler', StandardScaler()),\n",
    "    ('rf', RandomForestClassifier(random_state=42))\n",
    "])\n"
   ],
   "execution_count": null,
   "outputs": []
  },
  {
   "cell_type": "markdown",
   "metadata": {},
   "source": [
    "## Define Hyperparameter Search Space\n"
   ]
  },
  {
   "cell_type": "code",
   "metadata": {},
   "source": [
    "param_distributions = {\n",
    "    'rf__n_estimators': ('int', 10, 200),\n",
    "    'rf__max_depth': ('int', 2, 10),\n",
    "    'rf__min_samples_split': ('int', 2, 10),\n",
    "    'imputer__strategy': ['mean', 'median', 'most_frequent'],\n",
    "    'scaler__with_mean': [True, False],\n",
    "    'scaler__with_std': [True, False]\n",
    "}\n"
   ],
   "execution_count": null,
   "outputs": []
  },
  {
   "cell_type": "markdown",
   "metadata": {},
   "source": [
    "## Optimize Hyperparameters\n"
   ]
  },
  {
   "cell_type": "code",
   "metadata": {},
   "source": [
    "optimizer = Optimizer(task='classification', metric='accuracy', n_trials=20, cv=3, random_state=42)\n",
    "result = optimizer.optimize_pipeline(pipeline, X, y, param_distributions)\n",
    "print('Best Parameters:')\n",
    "for k, v in result['best_params'].items():\n",
    "    print(f'{k}: {v}')\n",
    "print(f'Best Score: {result[\'best_value\']:.4f}')"
   ],
   "execution_count": null,
   "outputs": []
  },
  {
   "cell_type": "markdown",
   "metadata": {},
   "source": [
    "## Feature Selection\n",
    "\n",
    "Let's perform feature selection as part of the optimization process."
   ]
  },
  {
   "cell_type": "code",
   "metadata": {},
   "source": [
    "result_fs = optimizer.optimize_pipeline(\n",
    "    pipeline, X, y, param_distributions,\n",
    "    feature_selection=True, n_features=3, task_type='classification', feature_selection_method='f_classif'\n",
    ")\n",
    "print('Selected Features:', result_fs['selected_features'])\n",
    "print(f'Best Score with Feature Selection: {result_fs[\'best_value\']:.4f}')"
   ],
   "execution_count": null,
   "outputs": []
  },
  {
   "cell_type": "markdown",
   "metadata": {},
   "source": [
    "## Visualize Feature Importances (if available)\n"
   ]
  },
  {
   "cell_type": "code",
   "metadata": {},
   "source": [
    "if hasattr(pipeline.named_steps['rf'], 'feature_importances_'):\n",
    "    import matplotlib.pyplot as plt\n",
    "    importances = pipeline.named_steps['rf'].feature_importances_\n",
    "    feature_names = X.columns if hasattr(X, 'columns') else [f'feature_{i}' for i in range(X.shape[1])]\n",
    "    plt.bar(feature_names, importances)\n",
    "    plt.title('Feature Importances (RandomForest)')\n",
    "    plt.ylabel('Importance')\n",
    "    plt.show()"
   ],
   "execution_count": null,
   "outputs": []
  },
  {
   "cell_type": "markdown",
   "metadata": {},
   "source": [
    "## Summary\n",
    "\n",
    "- Performed hyperparameter optimization using Optuna.\n",
    "- Demonstrated feature selection as part of the pipeline.\n",
    "- Visualized feature importances.\n",
    "\n",
    "Next: We will explore meta-learning, memory, and advanced extensions."
   ]
  }
 ],
 "metadata": {
  "kernelspec": {
   "display_name": "Python 3",
   "language": "python",
   "name": "python3"
  },
  "language_info": {
   "name": "python",
   "version": "3.8"
  }
 },
 "nbformat": 4,
 "nbformat_minor": 2
}
