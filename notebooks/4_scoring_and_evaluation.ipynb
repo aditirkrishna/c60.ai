{
 "cells": [
  {
   "cell_type": "markdown",
   "metadata": {},
   "source": [
    "# Stage 4: Scoring & Evaluation of Pipelines\n",
    "\n",
    "This notebook demonstrates how to evaluate and score pipelines using the C60.ai framework."
   ]
  },
  {
   "cell_type": "code",
   "metadata": {},
   "source": [
    "import pandas as pd\n",
    "import numpy as np\n",
    "from sklearn.ensemble import RandomForestClassifier\n",
    "from sklearn.pipeline import Pipeline\n",
    "from sklearn.impute import SimpleImputer\n",
    "from sklearn.preprocessing import StandardScaler\n",
    "from c60.core.evaluator import Evaluator\n"
   ],
   "execution_count": null,
   "outputs": []
  },
  {
   "cell_type": "markdown",
   "metadata": {},
   "source": [
    "## Load Example Data\n",
    "\n",
    "We use the Iris dataset for demonstration."
   ]
  },
  {
   "cell_type": "code",
   "metadata": {},
   "source": [
    "from sklearn.datasets import load_iris\n",
    "data = load_iris(as_frame=True)\n",
    "X = data.data\n",
    "y = data.target\n"
   ],
   "execution_count": null,
   "outputs": []
  },
  {
   "cell_type": "markdown",
   "metadata": {},
   "source": [
    "## Build a Simple Pipeline\n"
   ]
  },
  {
   "cell_type": "code",
   "metadata": {},
   "source": [
    "pipeline = Pipeline([\n",
    "    ('imputer', SimpleImputer(strategy='mean')),\n",
    "    ('scaler', StandardScaler()),\n",
    "    ('rf', RandomForestClassifier(n_estimators=100, random_state=42))\n",
    "])\n"
   ],
   "execution_count": null,
   "outputs": []
  },
  {
   "cell_type": "markdown",
   "metadata": {},
   "source": [
    "## Evaluate the Pipeline\n",
    "\n",
    "We use the Evaluator class to score the pipeline with cross-validation and multiple metrics."
   ]
  },
  {
   "cell_type": "code",
   "metadata": {},
   "source": [
    "evaluator = Evaluator(task='classification', metrics=['accuracy', 'f1_weighted', 'roc_auc_ovr'], cv=5, random_state=42)\n",
    "results = evaluator.evaluate(pipeline, X, y)\n",
    "print('Evaluation Results:')\n",
    "for metric, value in results.items():\n",
    "    print(f'{metric}: {value:.4f}')"
   ],
   "execution_count": null,
   "outputs": []
  },
  {
   "cell_type": "markdown",
   "metadata": {},
   "source": [
    "## Compare Multiple Pipelines\n",
    "\n",
    "Let's compare a RandomForest and a LogisticRegression pipeline."
   ]
  },
  {
   "cell_type": "code",
   "metadata": {},
   "source": [
    "from sklearn.linear_model import LogisticRegression\n",
    "pipeline_lr = Pipeline([\n",
    "    ('imputer', SimpleImputer(strategy='mean')),\n",
    "    ('scaler', StandardScaler()),\n",
    "    ('lr', LogisticRegression(max_iter=200, random_state=42))\n",
    "])\n",
    "results_lr = evaluator.evaluate(pipeline_lr, X, y)\n",
    "print('Logistic Regression Results:')\n",
    "for metric, value in results_lr.items():\n",
    "    print(f'{metric}: {value:.4f}')"
   ],
   "execution_count": null,
   "outputs": []
  },
  {
   "cell_type": "markdown",
   "metadata": {},
   "source": [
    "## Visualize Performance Comparison\n"
   ]
  },
  {
   "cell_type": "code",
   "metadata": {},
   "source": [
    "import matplotlib.pyplot as plt\n",
    "labels = list(results.keys())\n",
    "rf_scores = [results[k] for k in labels]\n",
    "lr_scores = [results_lr[k] for k in labels]\n",
    "x = np.arange(len(labels))\n",
    "width = 0.35\n",
    "fig, ax = plt.subplots(figsize=(8, 4))\n",
    "rects1 = ax.bar(x - width/2, rf_scores, width, label='RandomForest')\n",
    "rects2 = ax.bar(x + width/2, lr_scores, width, label='LogisticRegression')\n",
    "ax.set_ylabel('Score')\n",
    "ax.set_title('Pipeline Performance Comparison')\n",
    "ax.set_xticks(x)\n",
    "ax.set_xticklabels(labels)\n",
    "ax.legend()\n",
    "plt.ylim(0, 1.1)\n",
    "plt.show()"
   ],
   "execution_count": null,
   "outputs": []
  },
  {
   "cell_type": "markdown",
   "metadata": {},
   "source": [
    "## Summary\n",
    "\n",
    "- Evaluated pipelines using cross-validation and multiple metrics.\n",
    "- Compared different pipeline variants.\n",
    "- Visualized performance for research and industry demo.\n",
    "\n",
    "Next: We will demonstrate hyperparameter optimization and feature selection."
   ]
  }
 ],
 "metadata": {
  "kernelspec": {
   "display_name": "Python 3",
   "language": "python",
   "name": "python3"
  },
  "language_info": {
   "name": "python",
   "version": "3.8"
  }
 },
 "nbformat": 4,
 "nbformat_minor": 2
}
